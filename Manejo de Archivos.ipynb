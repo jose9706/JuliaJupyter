{
 "cells": [
  {
   "cell_type": "markdown",
   "metadata": {},
   "source": [
    "# Manejo de Archivos\n",
    "En este cuaderno se cubren los temas básicos para el manejo de archivos: \n",
    " 1. Como abrir y cerrar archivos\n",
    " 2. Uso del bloque <code>do</code> en archivos\n",
    " 3. Lectura y escritura de archivos "
   ]
  },
  {
   "cell_type": "markdown",
   "metadata": {},
   "source": [
    "## Abrir y cerrar archivos\n",
    "Para poder acceder a un archivo en Julia generalmente se utiliza la función <code>open()</code>. Dentro de su argumento se coloca el camino al archivo en el caso que el archivo se encuentre en un folder diferente al actual. Si se desea saber el folder actual donde se está trabajando en Julia se puede utilizar la función <code>pwd()</code>. \n",
    "\n",
    "Existen diferentes keywords que se le pueden agregar a la función <code>open()</code> las cuales indican lo que se quiere poder realizar con el archivo. Por defecto el archivo se abre __solo__ para lectura. \n",
    "\n",
    "\n",
    "| Keyword | Función |\n",
    "| --- | --- |\n",
    "| r | lectura |\n",
    "| w | escritura, creación |\n",
    "| a | escritura, creación, append |\n",
    "| r+ | escritura, lectura |\n",
    "| w+ | escritura, creación, lectura |\n",
    "| a+ | append, escritura, lectura |\n",
    "\n",
    "Por ejemplo, para abrir un archivo de prueba se puede hacer:\n"
   ]
  },
  {
   "cell_type": "code",
   "execution_count": 1,
   "metadata": {},
   "outputs": [
    {
     "data": {
      "text/plain": [
       "IOStream(<file test.txt>)"
      ]
     },
     "execution_count": 1,
     "metadata": {},
     "output_type": "execute_result"
    }
   ],
   "source": [
    "f = open(\"test.txt\", \"r\") "
   ]
  },
  {
   "cell_type": "markdown",
   "metadata": {},
   "source": [
    "Lo anterior abre el archivo y lo adjunta el nombre <code>f</code> el cual representa el archivo. Para cerrar el archivo se utiliza la funcion <code>close()</code> de la siguiente forma: "
   ]
  },
  {
   "cell_type": "code",
   "execution_count": 2,
   "metadata": {},
   "outputs": [],
   "source": [
    "close(f)"
   ]
  },
  {
   "cell_type": "markdown",
   "metadata": {},
   "source": [
    "## Bloques <code>do</code> y lectura de archivos\n",
    "En Julia generalmente se utiliza un bloque <code>do</code> para el manejo de archivos, esto dado que cuando se termina de realizar el código deseado sobre el archivo, este usualmente se cierra. Además de que generalmente no se requiere mantener el archivo abierto todo el tiempo que se corre un programa.\n",
    "\n",
    "Por otro lado, para leer los contenidos de un archivo existen variadas maneras, una es por medio de la función <code>read()</code> a esta función se le indica el archivo a leer y el tipo de variable a leer. Por ejemplo, si leer un <code>Int</code> un <code>Char</code>, <code>String</code>, etc. La función se detiene cuando encuentra un valor del tipo requerido.  \n",
    "\n",
    "Por ejemplo, entonces:\n"
   ]
  },
  {
   "cell_type": "code",
   "execution_count": 3,
   "metadata": {},
   "outputs": [
    {
     "data": {
      "text/plain": [
       "\"Lorem ipsum dolor sit amet, consectetur adipiscing \\nelit. Cras orci justo, lacinia a odio vel, lobortis \\nsodales urna. Curabitur augue sem, tristique ac \\nsuscipit nec, facilisis nec dolor. \""
      ]
     },
     "execution_count": 3,
     "metadata": {},
     "output_type": "execute_result"
    }
   ],
   "source": [
    "open(\"test.txt\", \"r\") do f\n",
    "    read(f, String)\n",
    "end "
   ]
  },
  {
   "cell_type": "markdown",
   "metadata": {},
   "source": [
    "Se debe tomar en cuenta que al leer por este método se leen los comandos <code>newline \\n</code>. Por tanto, se debe utilizar tomando lo anterior en cuenta. Para revisar si un archivo está abierto o no se puede utilizar la función <code>isopen()</code>"
   ]
  },
  {
   "cell_type": "code",
   "execution_count": 4,
   "metadata": {},
   "outputs": [
    {
     "data": {
      "text/plain": [
       "false"
      ]
     },
     "execution_count": 4,
     "metadata": {},
     "output_type": "execute_result"
    }
   ],
   "source": [
    "isopen(f)"
   ]
  },
  {
   "cell_type": "code",
   "execution_count": 5,
   "metadata": {},
   "outputs": [
    {
     "data": {
      "text/plain": [
       "'L': ASCII/Unicode U+004C (category Lu: Letter, uppercase)"
      ]
     },
     "execution_count": 5,
     "metadata": {},
     "output_type": "execute_result"
    }
   ],
   "source": [
    "open(\"test.txt\", \"r\") do f\n",
    "    read(f, Char)\n",
    "end"
   ]
  },
  {
   "cell_type": "code",
   "execution_count": 6,
   "metadata": {},
   "outputs": [
    {
     "data": {
      "text/plain": [
       "76"
      ]
     },
     "execution_count": 6,
     "metadata": {},
     "output_type": "execute_result"
    }
   ],
   "source": [
    "open(\"test.txt\", \"r\") do f\n",
    "    read(f, Int8)\n",
    "end"
   ]
  },
  {
   "cell_type": "markdown",
   "metadata": {},
   "source": [
    "La función <code>read()</code> retorna el valor del tipo pedido, este valor puede ser guardado en una variable. Por ejemplo, para guardar los contenidos de todo un archivo se puede hacer:"
   ]
  },
  {
   "cell_type": "code",
   "execution_count": 7,
   "metadata": {},
   "outputs": [
    {
     "data": {
      "text/plain": [
       "\"Lorem ipsum dolor sit amet, consectetur adipiscing \\nelit. Cras orci justo, lacinia a odio vel, lobortis \\nsodales urna. Curabitur augue sem, tristique ac \\nsuscipit nec, facilisis nec dolor. \""
      ]
     },
     "execution_count": 7,
     "metadata": {},
     "output_type": "execute_result"
    }
   ],
   "source": [
    "open(\"test.txt\", \"r\") do f\n",
    "    content = read(f, String)\n",
    "end "
   ]
  },
  {
   "cell_type": "markdown",
   "metadata": {},
   "source": [
    "Lo anterior toma todo el contenido del archivo el cual se lee como un <code>String</code> y lo guarda en la variable <code>content</code>. Una particularidad de utilizar <code>do</code> es que las variables creadas dentro de ese bloque de codigo son locales. Para poder accesarlas fuera del bloque se puede hacer algo como:"
   ]
  },
  {
   "cell_type": "code",
   "execution_count": 8,
   "metadata": {},
   "outputs": [
    {
     "data": {
      "text/plain": [
       "\"Lorem ipsum dolor sit amet, consectetur adipiscing \\nelit. Cras orci justo, lacinia a odio vel, lobortis \\nsodales urna. Curabitur augue sem, tristique ac \\nsuscipit nec, facilisis nec dolor. \""
      ]
     },
     "execution_count": 8,
     "metadata": {},
     "output_type": "execute_result"
    }
   ],
   "source": [
    "content = open(\"test.txt\", \"r\") do f\n",
    "     read(f, String)\n",
    "end \n",
    "content"
   ]
  },
  {
   "cell_type": "markdown",
   "metadata": {},
   "source": [
    "Los bloques <code>do</code> funcionan similar a las funciones donde la última línea contiene lo que se retorna del bloque, en el caso anterior entonces el contenido del archivo se retorna y se asigna a <code>content</code>. También se permite retornar más de una cosa, por ejemplo:"
   ]
  },
  {
   "cell_type": "code",
   "execution_count": 9,
   "metadata": {},
   "outputs": [
    {
     "data": {
      "text/plain": [
       "(\"Lorem ipsum dolor sit amet, consectetur adipiscing \", \"elit. Cras orci justo, lacinia a odio vel, lobortis \")"
      ]
     },
     "execution_count": 9,
     "metadata": {},
     "output_type": "execute_result"
    }
   ],
   "source": [
    "line1, line2 = open(\"test.txt\", \"r\") do f\n",
    "    line1 = readline(f)\n",
    "    line2 = readline(f)\n",
    "    (line1, line2)\n",
    "end "
   ]
  },
  {
   "cell_type": "markdown",
   "metadata": {},
   "source": [
    "Lo anterior retorna las dos primeras líneas del documento por medio de la función <code>readline()</code>, cuando se lee una línea se deja un marcador al inicio de la siguiente línea y por tanto se pueden leer líneas de forma continua agregando más funciones <code>readline()</code>. Por otro lado, los valores de las dos líneas se retornan por medio de un __Tuple__ que las contiene. Estas luego se asignan a las variables <code>line1</code> y <code>line2</code> respectivamente."
   ]
  },
  {
   "cell_type": "markdown",
   "metadata": {},
   "source": [
    "Tomando la función anterior <code>readline()</code> se puede crear un pedazo de código el cual itere sobre todas las líneas de un archivo, por ejemplo:"
   ]
  },
  {
   "cell_type": "code",
   "execution_count": 10,
   "metadata": {},
   "outputs": [
    {
     "name": "stdout",
     "output_type": "stream",
     "text": [
      "Lorem ipsum dolor sit amet, consectetur adipiscing \n",
      "elit. Cras orci justo, lacinia a odio vel, lobortis \n",
      "sodales urna. Curabitur augue sem, tristique ac \n",
      "suscipit nec, facilisis nec dolor. \n"
     ]
    }
   ],
   "source": [
    "open(\"test.txt\", \"r\") do f\n",
    "    while(!eof(f))\n",
    "        println(readline(f))\n",
    "    end\n",
    "end"
   ]
  },
  {
   "cell_type": "markdown",
   "metadata": {},
   "source": [
    "El código anterior utiliza la función <code>eof()</code> a la cual se le pasa como argumento el archivo, la función luego retorna si ya se llegó al final de este. Si se ha llegado al final del archivo se retorna <code>true</code>. Lo anterior es solo una de las varias formas que se pueden utilizar, por ejemplo:"
   ]
  },
  {
   "cell_type": "code",
   "execution_count": 11,
   "metadata": {},
   "outputs": [
    {
     "name": "stdout",
     "output_type": "stream",
     "text": [
      "Lorem ipsum dolor sit amet, consectetur adipiscing \n",
      "elit. Cras orci justo, lacinia a odio vel, lobortis \n",
      "sodales urna. Curabitur augue sem, tristique ac \n",
      "suscipit nec, facilisis nec dolor. \n"
     ]
    }
   ],
   "source": [
    "open(\"test.txt\", \"r\") do f\n",
    "    for i in eachline(f)\n",
    "        println(i)\n",
    "    end\n",
    "end"
   ]
  },
  {
   "cell_type": "markdown",
   "metadata": {},
   "source": [
    "La forma anterior utiliza la función <code>eachline()</code> la cual retorna un objeto iterable que contiene las líneas del texto. Por tanto, el <code>for</code> anterior itera sobre todas las líneas del texto hasta que termina. Otra forma:"
   ]
  },
  {
   "cell_type": "code",
   "execution_count": 12,
   "metadata": {},
   "outputs": [
    {
     "name": "stdout",
     "output_type": "stream",
     "text": [
      "Lorem ipsum dolor sit amet, consectetur adipiscing \n",
      "elit. Cras orci justo, lacinia a odio vel, lobortis \n",
      "sodales urna. Curabitur augue sem, tristique ac \n",
      "suscipit nec, facilisis nec dolor. \n"
     ]
    }
   ],
   "source": [
    "open(\"test.txt\", \"r\") do f\n",
    "    for i in readlines(f)\n",
    "        println(i)\n",
    "    end\n",
    "end"
   ]
  },
  {
   "cell_type": "markdown",
   "metadata": {},
   "source": [
    "Esta otra forma utiliza la función <code>readlines()</code> la cual retorna todas las líneas del texto en un arreglo sobre el cual se pude iterar, muy similar a utilizar <code>eachline()</code>."
   ]
  },
  {
   "cell_type": "markdown",
   "metadata": {},
   "source": [
    "## Escritura de Archivos \n",
    "Para escribir a un archivo se utiliza la función <code>write()</code>. A dicha función se le dice donde escribir y los datos a escribir. Por ejemplo, creando un archivo de prueba:"
   ]
  },
  {
   "cell_type": "code",
   "execution_count": 13,
   "metadata": {},
   "outputs": [
    {
     "data": {
      "text/plain": [
       "24"
      ]
     },
     "execution_count": 13,
     "metadata": {},
     "output_type": "execute_result"
    }
   ],
   "source": [
    "open(\"write_test.txt\", \"w+\") do f\n",
    "    write(f, \"Soy un texto de prueba \\n\")\n",
    "end"
   ]
  },
  {
   "cell_type": "markdown",
   "metadata": {},
   "source": [
    "Lo anterior crea un archivo de prueba y lo llena con el contenido definido, correr varias veces el código no llena el archivo más veces. Si más bien lo que se desea es agregar contenido al archivo en otras palabras hacer <code>append</code> al archivo se debe abrir de la siguiente forma:"
   ]
  },
  {
   "cell_type": "code",
   "execution_count": 14,
   "metadata": {},
   "outputs": [
    {
     "data": {
      "text/plain": [
       "26"
      ]
     },
     "execution_count": 14,
     "metadata": {},
     "output_type": "execute_result"
    }
   ],
   "source": [
    "open(\"write_test.txt\", \"a+\") do f\n",
    "    write(f, \"Soy otra linea de prueba \\n\")\n",
    "end "
   ]
  },
  {
   "cell_type": "markdown",
   "metadata": {},
   "source": [
    "En base en lo anterior se pueden hacer cosas mucho más complejas, por ejemplo, escribiendo una matriz al archivo:"
   ]
  },
  {
   "cell_type": "code",
   "execution_count": 15,
   "metadata": {},
   "outputs": [],
   "source": [
    "nums() = rand(1:10, 3)\n",
    "\n",
    "open(\"write_test.txt\", \"w+\") do f\n",
    "    for i in 1:3\n",
    "        n1, n2, n3 = nums()\n",
    "        write(f, \"$n1 $n2 $n3 \\n\")\n",
    "    end\n",
    "end"
   ]
  },
  {
   "cell_type": "markdown",
   "metadata": {},
   "source": [
    "El código anterior escribe una matriz 3x3 en el archivo de valores aleatorios. Para leerlo se puede hacer de varias formas, una forma útil para la lectura de este tipo de estructuras es por medio del paquete <code>DelimitedFiles</code>. Dentro de este está la función <code>readdlm()</code> a dicha función se le pueden pasar diferentes parámetros de entrada, entre los cuales están:\n",
    "\n",
    "- El archivo\n",
    "- El separador de valores, sino se indica se asumen espacios\n",
    "- El tipo de variable a leer, <code>Float</code>, <code>Int</code>, etc.\n",
    "- Carácter de final de fila, sino se indica se asume <code>\\n</code>\n",
    "\n",
    "Existen otros parámetros de entrada que no son tan útiles para los ejemplos mostrados a continuación.\n"
   ]
  },
  {
   "cell_type": "code",
   "execution_count": 16,
   "metadata": {},
   "outputs": [
    {
     "data": {
      "text/plain": [
       "3×3 Array{Int64,2}:\n",
       " 8  2  4\n",
       " 8  9  1\n",
       " 3  8  3"
      ]
     },
     "execution_count": 16,
     "metadata": {},
     "output_type": "execute_result"
    }
   ],
   "source": [
    "using DelimitedFiles\n",
    "readdlm(\"write_test.txt\", Int)"
   ]
  },
  {
   "cell_type": "markdown",
   "metadata": {},
   "source": [
    "También dentro de este paquete se pueden escribir matrices o arreglos de forma fácil por medio de la función <code>writedlm()</code> a dicha función se le indica el archivo, el vector o matriz a guardar y como opcional se puede elegir un delimitador para cada valor. Primero para una matriz se utiliza como delimitador entre valores un espacio:"
   ]
  },
  {
   "cell_type": "code",
   "execution_count": 17,
   "metadata": {},
   "outputs": [
    {
     "data": {
      "text/plain": [
       "5×5 Array{Float32,2}:\n",
       " 0.672107   0.486917  0.55973    0.299977  0.220677\n",
       " 0.0779645  0.829956  0.243579   0.666183  0.533286\n",
       " 0.575215   0.523428  0.013715   0.19967   0.562412\n",
       " 0.646621   0.950588  0.0347743  0.259135  0.147738\n",
       " 0.70959    0.729563  0.556871   0.986827  0.876042"
      ]
     },
     "execution_count": 17,
     "metadata": {},
     "output_type": "execute_result"
    }
   ],
   "source": [
    "open(\"write_test.txt\", \"w+\") do f\n",
    "    writedlm(f, rand(5,5), ' ')\n",
    "end\n",
    "readdlm(\"write_test.txt\", Float32)"
   ]
  },
  {
   "cell_type": "markdown",
   "metadata": {},
   "source": [
    "Para un arreglo:"
   ]
  },
  {
   "cell_type": "code",
   "execution_count": 18,
   "metadata": {},
   "outputs": [
    {
     "data": {
      "text/plain": [
       "10×1 Array{Int64,2}:\n",
       "  6\n",
       "  9\n",
       "  9\n",
       "  6\n",
       "  7\n",
       "  5\n",
       "  5\n",
       "  5\n",
       "  5\n",
       " 10"
      ]
     },
     "execution_count": 18,
     "metadata": {},
     "output_type": "execute_result"
    }
   ],
   "source": [
    "open(\"write_test.txt\", \"w+\") do f\n",
    "    writedlm(f, rand(1:10, 10), ' ')\n",
    "end\n",
    "readdlm(\"write_test.txt\", Int)"
   ]
  }
 ],
 "metadata": {
  "kernelspec": {
   "display_name": "Julia 1.5.0",
   "language": "julia",
   "name": "julia-1.5"
  },
  "language_info": {
   "file_extension": ".jl",
   "mimetype": "application/julia",
   "name": "julia",
   "version": "1.5.0"
  }
 },
 "nbformat": 4,
 "nbformat_minor": 2
}

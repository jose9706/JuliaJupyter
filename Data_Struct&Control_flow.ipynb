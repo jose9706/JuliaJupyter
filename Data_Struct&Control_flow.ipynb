{
 "cells": [
  {
   "cell_type": "markdown",
   "metadata": {},
   "source": [
    "# Estructuras de Datos y Control de Flujo\n",
    "En este cuaderno de Jupyter se cubren las estructuras de datos básicos del lenguaje como:\n",
    "1. Dictionaries\n",
    "2. Tuples \n",
    "3. Arrays \n",
    "\n",
    "Una nota importante sobre el acceso por índices en Julia es que los __índices no inician en el elemento 0__ como en otros lenguajes, el __primer elemento comienza en el índice 1.__\n",
    "\n",
    "Dichas estructuras de datos son muy importante dado las limitaciones de hacer variables de un solo dato. Por otro lado, se cubre la parte de control de flujo la cual incluye: \n",
    "- While loop\n",
    "- For loop\n",
    "- If else \n",
    "- Funciones en Julia"
   ]
  },
  {
   "cell_type": "markdown",
   "metadata": {},
   "source": [
    "## Dictionaries \n",
    "Un diccionario es una estructura de datos la cual contiene palabras claves asociadas a un valor, similar a un libro telefónico. En el libro telefónico la palabra clave o _key_ seria el nombre de la persona y el valor o _data_ asociado es el numero telefónico. Para crear un diccionario se hace de la siguiente forma:\n"
   ]
  },
  {
   "cell_type": "code",
   "execution_count": 1,
   "metadata": {},
   "outputs": [
    {
     "data": {
      "text/plain": [
       "Dict{String,Any} with 3 entries:\n",
       "  \"Marco\" => \"23458679\"\n",
       "  \"Maria\" => 12345678\n",
       "  \"Jose\"  => 20063456"
      ]
     },
     "execution_count": 1,
     "metadata": {},
     "output_type": "execute_result"
    }
   ],
   "source": [
    "dictionary = Dict(\"Jose\" => 20063456, \"Marco\" => \"23458679\", \"Maria\" => 12345678)"
   ]
  },
  {
   "cell_type": "markdown",
   "metadata": {},
   "source": [
    "El ejemplo anterior crea un diccionario con 3 entradas similar a un libro telefónico, Jose y María son palabras claves cuyos valores son <code>Int</code> mientras que el valor asociado a Marco es un <code>string</code>. Los datos de un diccionario pueden ser de diferentes tipos. Para agregar un nuevo valor a un diccionario se utiliza la siguiente sintaxis."
   ]
  },
  {
   "cell_type": "code",
   "execution_count": 2,
   "metadata": {},
   "outputs": [
    {
     "data": {
      "text/plain": [
       "\"911\""
      ]
     },
     "execution_count": 2,
     "metadata": {},
     "output_type": "execute_result"
    }
   ],
   "source": [
    "dictionary[\"Emergencias\"] = \"911\""
   ]
  },
  {
   "cell_type": "code",
   "execution_count": 3,
   "metadata": {},
   "outputs": [
    {
     "data": {
      "text/plain": [
       "Dict{String,Any} with 4 entries:\n",
       "  \"Emergencias\" => \"911\"\n",
       "  \"Marco\"       => \"23458679\"\n",
       "  \"Maria\"       => 12345678\n",
       "  \"Jose\"        => 20063456"
      ]
     },
     "execution_count": 3,
     "metadata": {},
     "output_type": "execute_result"
    }
   ],
   "source": [
    "#Revisando el nuevo contenido del diccionario\n",
    "dictionary"
   ]
  },
  {
   "cell_type": "markdown",
   "metadata": {},
   "source": [
    "Para accesar los valores dentro de un diccionario se debe utilizar la palabra clave que se desea buscar por ejemplo:"
   ]
  },
  {
   "cell_type": "code",
   "execution_count": 4,
   "metadata": {},
   "outputs": [
    {
     "data": {
      "text/plain": [
       "\"23458679\""
      ]
     },
     "execution_count": 4,
     "metadata": {},
     "output_type": "execute_result"
    }
   ],
   "source": [
    "dictionary[\"Marco\"]"
   ]
  },
  {
   "cell_type": "markdown",
   "metadata": {},
   "source": [
    "Los diccionarios no pueden ser accesados por indices como un arreglo. "
   ]
  },
  {
   "cell_type": "code",
   "execution_count": 5,
   "metadata": {},
   "outputs": [
    {
     "ename": "LoadError",
     "evalue": "KeyError: key 1 not found",
     "output_type": "error",
     "traceback": [
      "KeyError: key 1 not found",
      "",
      "Stacktrace:",
      " [1] getindex(::Dict{String,Any}, ::Int64) at .\\dict.jl:467",
      " [2] top-level scope at In[5]:2",
      " [3] include_string(::Function, ::Module, ::String, ::String) at .\\loading.jl:1091"
     ]
    }
   ],
   "source": [
    "# Lo siguiente va a generar un error\n",
    "dictionary[1]"
   ]
  },
  {
   "cell_type": "markdown",
   "metadata": {},
   "source": [
    "## Tuples\n",
    "Los _Tuples_ son similar a un arreglo, su diferencia principal es el hecho que sus contenidos no pueden ser modificados, para crear un _Tuple_ se utilizan los paréntesis <code>( )</code>, por ejemplo:\n"
   ]
  },
  {
   "cell_type": "code",
   "execution_count": 6,
   "metadata": {},
   "outputs": [
    {
     "data": {
      "text/plain": [
       "(\"Lunes\", \"Martes\", \"Miercoles\", \"Jueves\", \"Viernes\")"
      ]
     },
     "execution_count": 6,
     "metadata": {},
     "output_type": "execute_result"
    }
   ],
   "source": [
    "tuple = (\"Lunes\", \"Martes\", \"Miercoles\", \"Jueves\", \"Viernes\")"
   ]
  },
  {
   "cell_type": "markdown",
   "metadata": {},
   "source": [
    "Se pueden accesar por índices como un arreglo:"
   ]
  },
  {
   "cell_type": "code",
   "execution_count": 7,
   "metadata": {},
   "outputs": [
    {
     "data": {
      "text/plain": [
       "\"Jueves\""
      ]
     },
     "execution_count": 7,
     "metadata": {},
     "output_type": "execute_result"
    }
   ],
   "source": [
    "tuple[4]"
   ]
  },
  {
   "cell_type": "code",
   "execution_count": 8,
   "metadata": {},
   "outputs": [
    {
     "ename": "LoadError",
     "evalue": "MethodError: no method matching setindex!(::NTuple{5,String}, ::String, ::Int64)",
     "output_type": "error",
     "traceback": [
      "MethodError: no method matching setindex!(::NTuple{5,String}, ::String, ::Int64)",
      "",
      "Stacktrace:",
      " [1] top-level scope at In[8]:2",
      " [2] include_string(::Function, ::Module, ::String, ::String) at .\\loading.jl:1091"
     ]
    }
   ],
   "source": [
    "#Si se intenta modificar los contenidos de un Tuple se va a generar un error\n",
    "tuple[3] = \"Domingo\""
   ]
  },
  {
   "cell_type": "markdown",
   "metadata": {},
   "source": [
    "## Arrays\n",
    "Los arreglos si pueden ser modificados, contienen datos de forma ordenada que pueden ser accesados por índices y se crean utilizando paréntesis cuadrados <code>[ ]</code>. Algunos ejemplos de arreglos en Julia son:\n"
   ]
  },
  {
   "cell_type": "code",
   "execution_count": 9,
   "metadata": {},
   "outputs": [
    {
     "data": {
      "text/plain": [
       "5-element Array{Int64,1}:\n",
       " 1\n",
       " 2\n",
       " 3\n",
       " 4\n",
       " 5"
      ]
     },
     "execution_count": 9,
     "metadata": {},
     "output_type": "execute_result"
    }
   ],
   "source": [
    "array1 = [1,2,3,4,5]"
   ]
  },
  {
   "cell_type": "code",
   "execution_count": 10,
   "metadata": {},
   "outputs": [
    {
     "data": {
      "text/plain": [
       "4-element Array{String,1}:\n",
       " \"Jose\"\n",
       " \"Marco\"\n",
       " \"Maria\"\n",
       " \"Marta\""
      ]
     },
     "execution_count": 10,
     "metadata": {},
     "output_type": "execute_result"
    }
   ],
   "source": [
    "array2 =[\"Jose\",\"Marco\",\"Maria\",\"Marta\"]"
   ]
  },
  {
   "cell_type": "code",
   "execution_count": 11,
   "metadata": {},
   "outputs": [
    {
     "data": {
      "text/plain": [
       "5-element Array{Any,1}:\n",
       "  1.5\n",
       " 10\n",
       " 45\n",
       "   \"123\"\n",
       "   \"hola!\""
      ]
     },
     "execution_count": 11,
     "metadata": {},
     "output_type": "execute_result"
    }
   ],
   "source": [
    "# Julia tambien soporta arreglos cuyo contenido no es de un solo tipo:\n",
    "array3 = [1.5,10,45,\"123\",\"hola!\"]"
   ]
  },
  {
   "cell_type": "markdown",
   "metadata": {},
   "source": [
    "Para accesar un arreglo y modificar su contenido se hacen por medio de su índice:"
   ]
  },
  {
   "cell_type": "code",
   "execution_count": 12,
   "metadata": {},
   "outputs": [
    {
     "name": "stdout",
     "output_type": "stream",
     "text": [
      "1\n"
     ]
    },
    {
     "data": {
      "text/plain": [
       "30"
      ]
     },
     "execution_count": 12,
     "metadata": {},
     "output_type": "execute_result"
    }
   ],
   "source": [
    "println(array1[1])\n",
    "array1[1] = 30\n",
    "#Notese que algunos arreglos pueden contener \"Any\" y otros si tienen un tipo en especifico"
   ]
  },
  {
   "cell_type": "markdown",
   "metadata": {},
   "source": [
    "Si se desea crear un arreglo de números aleatorios se puede utilizar la función <code>rand()</code> dentro de ella se puede indicar la cantidad de números a generar. Luego, Julia crea un arreglo con la cantidad de números deseados. Los números van entre 0 y 1."
   ]
  },
  {
   "cell_type": "code",
   "execution_count": 13,
   "metadata": {},
   "outputs": [
    {
     "data": {
      "text/plain": [
       "10-element Array{Float64,1}:\n",
       " 0.9632410780347216\n",
       " 0.4438744925706273\n",
       " 0.23162764978796035\n",
       " 0.46602522764525456\n",
       " 0.5835843849681805\n",
       " 0.009085531328106633\n",
       " 0.30705530291113803\n",
       " 0.21918822830439644\n",
       " 0.7116787593006331\n",
       " 0.10884820786886285"
      ]
     },
     "execution_count": 13,
     "metadata": {},
     "output_type": "execute_result"
    }
   ],
   "source": [
    "arr = rand(10)"
   ]
  },
  {
   "cell_type": "markdown",
   "metadata": {},
   "source": [
    "### Funciones útiles \n",
    "Algunas funciones útiles para el manejo de estructuras de datos, en particular arrays son:\n",
    "1. <code>push!(array_or_vector_to_push, arg)</code> Agrega un valor _arg_ al final del arreglo.\n",
    "2. <code>pop!(array_or_vector)</code> Retorna y elimina el ultimo valor de la lista ordenada. \n",
    "3. <code>popat!(array_or_vector_to_pop ,index)</code> Retorna y elimina el valor en algún índice, luego reajusta los contenidos del arreglo. \n",
    "4. <code>insert!(array_or_vector, index, arg)</code> Inserta un valor en la posición indicada.\n",
    "\n",
    "Nota: Para este tipo de funciones se debe siempre utilizar el operador <code>!</code>, esto se explica en la parte de funciones. En resumen, lo que hace es indicar que las funciones pueden realizar modificaciones a la estructura de datos.\n"
   ]
  },
  {
   "cell_type": "code",
   "execution_count": 14,
   "metadata": {},
   "outputs": [
    {
     "data": {
      "text/plain": [
       "10-element Array{Int64,1}:\n",
       "  7\n",
       " 10\n",
       "  2\n",
       "  9\n",
       "  9\n",
       "  7\n",
       " 10\n",
       "  4\n",
       "  1\n",
       "  4"
      ]
     },
     "execution_count": 14,
     "metadata": {},
     "output_type": "execute_result"
    }
   ],
   "source": [
    "arr = rand(1:10,10) \n",
    "#=La primera entrada indica el rango de valores a generar\n",
    "y la segunda la cantidad de valores. =#"
   ]
  },
  {
   "cell_type": "code",
   "execution_count": 15,
   "metadata": {},
   "outputs": [
    {
     "data": {
      "text/plain": [
       "11-element Array{Int64,1}:\n",
       "  7\n",
       " 10\n",
       "  2\n",
       "  9\n",
       "  9\n",
       "  7\n",
       " 10\n",
       "  4\n",
       "  1\n",
       "  4\n",
       " 11"
      ]
     },
     "execution_count": 15,
     "metadata": {},
     "output_type": "execute_result"
    }
   ],
   "source": [
    "push!(arr,11)"
   ]
  },
  {
   "cell_type": "code",
   "execution_count": 16,
   "metadata": {},
   "outputs": [
    {
     "data": {
      "text/plain": [
       "11"
      ]
     },
     "execution_count": 16,
     "metadata": {},
     "output_type": "execute_result"
    }
   ],
   "source": [
    "pop!(arr)"
   ]
  },
  {
   "cell_type": "code",
   "execution_count": 17,
   "metadata": {},
   "outputs": [
    {
     "data": {
      "text/plain": [
       "10"
      ]
     },
     "execution_count": 17,
     "metadata": {},
     "output_type": "execute_result"
    }
   ],
   "source": [
    "popat!(arr, 2)"
   ]
  },
  {
   "cell_type": "code",
   "execution_count": 18,
   "metadata": {},
   "outputs": [
    {
     "data": {
      "text/plain": [
       "10-element Array{Int64,1}:\n",
       "  7\n",
       " 15\n",
       "  2\n",
       "  9\n",
       "  9\n",
       "  7\n",
       " 10\n",
       "  4\n",
       "  1\n",
       "  4"
      ]
     },
     "execution_count": 18,
     "metadata": {},
     "output_type": "execute_result"
    }
   ],
   "source": [
    "insert!(arr, 2, 15)"
   ]
  },
  {
   "cell_type": "markdown",
   "metadata": {},
   "source": [
    "## Control de Flujo\n",
    "\n",
    "### While loop\n",
    "Un loop de tipo _while_ es un pedazo de código el cual se repite infinitamente hasta que se ya no se cumpla una condición. En Julia para escribir un ciclo _while_ se utiliza la siguiente sintaxis: \n",
    "```julia\n",
    "    while *condition*\n",
    "    \n",
    "        *codigo*\n",
    "    \n",
    "    end\n",
    "```"
   ]
  },
  {
   "cell_type": "code",
   "execution_count": 19,
   "metadata": {},
   "outputs": [
    {
     "name": "stdout",
     "output_type": "stream",
     "text": [
      "Numero de iteracion 1\n",
      "Numero de iteracion 2\n",
      "Numero de iteracion 3\n",
      "Numero de iteracion 4\n",
      "Numero de iteracion 5\n",
      "Numero de iteracion 6\n",
      "Numero de iteracion 7\n",
      "Numero de iteracion 8\n",
      "Numero de iteracion 9\n",
      "Numero de iteracion 10\n"
     ]
    }
   ],
   "source": [
    "condition = 0\n",
    "while condition < 10\n",
    "    condition +=1\n",
    "    println(\"Numero de iteracion $condition\")\n",
    "end"
   ]
  },
  {
   "cell_type": "markdown",
   "metadata": {},
   "source": [
    "Los _while_ siempre se terminan con keyword <code>end</code>. "
   ]
  },
  {
   "cell_type": "markdown",
   "metadata": {},
   "source": [
    "### For loop\n",
    "Similar a un código _while_ este tipo de loop se repite siempre y cuando se cumple una condición. La diferencia nace de que se puede controlar cuantas veces realizar el loop. La sintaxis en Julia para un __for loop__ es:\n",
    "```julia\n",
    "    for *variable* in *rango o objeto*\n",
    "        * codigo *\n",
    "    end \n",
    "```"
   ]
  },
  {
   "cell_type": "code",
   "execution_count": 20,
   "metadata": {},
   "outputs": [
    {
     "name": "stdout",
     "output_type": "stream",
     "text": [
      "Numero de iteracion 1\n",
      "Numero de iteracion 2\n",
      "Numero de iteracion 3\n",
      "Numero de iteracion 4\n",
      "Numero de iteracion 5\n",
      "Numero de iteracion 6\n",
      "Numero de iteracion 7\n",
      "Numero de iteracion 8\n",
      "Numero de iteracion 9\n",
      "Numero de iteracion 10\n"
     ]
    }
   ],
   "source": [
    "# Para crear un rango de valores se puede utilizar la nomenclatura 1:10 por ejemplo:\n",
    "for i in 1:10 \n",
    "    println(\"Numero de iteracion $i\")\n",
    "end "
   ]
  },
  {
   "cell_type": "code",
   "execution_count": 21,
   "metadata": {},
   "outputs": [
    {
     "name": "stdout",
     "output_type": "stream",
     "text": [
      "Contenido del array 1\n",
      "Contenido del array 14\n",
      "Contenido del array 18\n",
      "Contenido del array 7\n",
      "Contenido del array 12\n",
      "Contenido del array 12\n",
      "Contenido del array 9\n",
      "Contenido del array 11\n",
      "Contenido del array 15\n",
      "Contenido del array 17\n"
     ]
    }
   ],
   "source": [
    "# Tambien se puede iterar sobre ciertas estructuras de datos por ejemplo arreglos:\n",
    "arr = rand(1:20, 10)\n",
    "for i in arr\n",
    "    println(\"Contenido del array $i\")\n",
    "end"
   ]
  },
  {
   "cell_type": "code",
   "execution_count": 22,
   "metadata": {},
   "outputs": [
    {
     "name": "stdout",
     "output_type": "stream",
     "text": [
      "\"Min\" => 10\n",
      "\"Med\" => 5\n",
      "\"Max\" => 1\n"
     ]
    }
   ],
   "source": [
    "dict = Dict(\"Max\"=>1, \"Min\" => 10, \"Med\" => 5)\n",
    "for i in dict\n",
    "    println(i)\n",
    "end"
   ]
  },
  {
   "cell_type": "markdown",
   "metadata": {},
   "source": [
    "Para recorrer matrices en general se utilizan dos <code>for</code> loops de la siguiente forma:"
   ]
  },
  {
   "cell_type": "code",
   "execution_count": 23,
   "metadata": {},
   "outputs": [
    {
     "data": {
      "text/plain": [
       "3×3 Array{Float64,2}:\n",
       " 2.0  3.0  4.0\n",
       " 3.0  4.0  5.0\n",
       " 4.0  5.0  6.0"
      ]
     },
     "execution_count": 23,
     "metadata": {},
     "output_type": "execute_result"
    }
   ],
   "source": [
    "matrix = zeros(3,3) #zeros(m,n) crea una matriz de tamaño mxn llena de 0s\n",
    "for i in 1:3\n",
    "    for j in 1:3\n",
    "        matrix[i, j] = i + j\n",
    "    end\n",
    "end\n",
    "matrix"
   ]
  },
  {
   "cell_type": "markdown",
   "metadata": {},
   "source": [
    "Sin embargo, Julia tambien permite la siguiente sintaxis:"
   ]
  },
  {
   "cell_type": "code",
   "execution_count": 24,
   "metadata": {},
   "outputs": [
    {
     "data": {
      "text/plain": [
       "3×3 Array{Float64,2}:\n",
       " 2.0  3.0  4.0\n",
       " 3.0  4.0  5.0\n",
       " 4.0  5.0  6.0"
      ]
     },
     "execution_count": 24,
     "metadata": {},
     "output_type": "execute_result"
    }
   ],
   "source": [
    "for i in 1:3, j in 1:3\n",
    "    matrix[i, j] = i+j\n",
    "end\n",
    "matrix"
   ]
  },
  {
   "cell_type": "markdown",
   "metadata": {},
   "source": [
    "Por ultimo, Julia permite algo muy similar a lo que se llama en Python como __List Comprehensions__, en Julia se llaman __Array Comprehensions__. Su sintaxis es la siguiente:"
   ]
  },
  {
   "cell_type": "code",
   "execution_count": 25,
   "metadata": {},
   "outputs": [
    {
     "data": {
      "text/plain": [
       "5×2 Array{Int64,2}:\n",
       " 1   1\n",
       " 2   4\n",
       " 3   9\n",
       " 4  16\n",
       " 5  25"
      ]
     },
     "execution_count": 25,
     "metadata": {},
     "output_type": "execute_result"
    }
   ],
   "source": [
    "arr = [x^y for x in 1:5, y in 1:2]"
   ]
  },
  {
   "cell_type": "code",
   "execution_count": 26,
   "metadata": {},
   "outputs": [
    {
     "data": {
      "text/plain": [
       "10-element Array{Int64,1}:\n",
       "   1\n",
       "   4\n",
       "   9\n",
       "  16\n",
       "  25\n",
       "  36\n",
       "  49\n",
       "  64\n",
       "  81\n",
       " 100"
      ]
     },
     "execution_count": 26,
     "metadata": {},
     "output_type": "execute_result"
    }
   ],
   "source": [
    "arr = [w^2 for w in 1:10]"
   ]
  },
  {
   "cell_type": "markdown",
   "metadata": {},
   "source": [
    "### Condicionales \n",
    "Los condicionales <code>if</code> y <code>else</code> sirven para ejecutar diferentes partes del código a partir de una condición, la sintaxis es:\n",
    "```julia\n",
    "    if *condition*\n",
    "        *hacer algo*\n",
    "    else \n",
    "        *hacer otra cosa*\n",
    "    end\n",
    "```\n",
    "    Tambien se soporta la siguiente sintaxis: \n",
    "```julia\n",
    "    if *condition*\n",
    "        *hacer algo*\n",
    "    elseif *condition 2*\n",
    "        *hacer otra cosa*\n",
    "    end\n",
    "```\n",
    "Por ejemplo entonces:"
   ]
  },
  {
   "cell_type": "code",
   "execution_count": 27,
   "metadata": {},
   "outputs": [
    {
     "name": "stdout",
     "output_type": "stream",
     "text": [
      "El numero 2 es mayor con valor de 1\n"
     ]
    }
   ],
   "source": [
    "num1 = rand(1:10)\n",
    "num2 = rand(1:10)\n",
    "if num1>num2\n",
    "    println(\"El numero 1 es mayor con valor de $num1\")\n",
    "else\n",
    "    println(\"El numero 2 es mayor con valor de $num2\")\n",
    "end"
   ]
  },
  {
   "cell_type": "code",
   "execution_count": 28,
   "metadata": {},
   "outputs": [
    {
     "name": "stdout",
     "output_type": "stream",
     "text": [
      "El numero 3 es mayor con valor de 6\n"
     ]
    }
   ],
   "source": [
    "num3 = rand(1:10)\n",
    "if num1>num2\n",
    "    println(\"El numero 1 es mayor con valor de $num1\")\n",
    "elseif num3>num2\n",
    "    println(\"El numero 3 es mayor con valor de $num3\")\n",
    "else\n",
    "    println(\"El numero 2 es mayor con valor de $num2\")\n",
    "end"
   ]
  },
  {
   "cell_type": "markdown",
   "metadata": {},
   "source": [
    "Para este tipo de condiciones simples donde solo hay dos caminos como en el primer ejemplo existe otra sintaxis más corta la cual se puede utilizar por medio del operador <code>?</code>. Por ejemplo, si se desea retornar el número más grande:"
   ]
  },
  {
   "cell_type": "code",
   "execution_count": 29,
   "metadata": {},
   "outputs": [
    {
     "data": {
      "text/plain": [
       "8"
      ]
     },
     "execution_count": 29,
     "metadata": {},
     "output_type": "execute_result"
    }
   ],
   "source": [
    "num1 = rand(1:10)\n",
    "num2 = rand(1:10)\n",
    "(num1 > num2) ? num1 : num2 #Si la condicion se cumple se retorna num1 por ser mayor, caso contrario se retorna num2"
   ]
  },
  {
   "cell_type": "markdown",
   "metadata": {},
   "source": [
    "Otra posibilidad en Julia es utilizar el operador <code>\\&\\&</code> de la siguiente forma:\n",
    "```julia\n",
    "    condition && b\n",
    "```\n",
    "Lo anterior significa que solo si la condición <code>condition</code> se cumple, en otras palabras es verdadera se realiza <code>b</code>.\n"
   ]
  },
  {
   "cell_type": "code",
   "execution_count": 30,
   "metadata": {},
   "outputs": [
    {
     "name": "stdout",
     "output_type": "stream",
     "text": [
      "Num1 es mas grande\n"
     ]
    }
   ],
   "source": [
    "num1 = rand(1:10)\n",
    "num2 = rand(1:10)\n",
    "(num1 > num2) && println(\"Num1 es mas grande\")\n",
    "(num2 > num1) && println(\"Num2 es mas grande\");"
   ]
  },
  {
   "cell_type": "markdown",
   "metadata": {},
   "source": [
    "## Funciones\n",
    "\n",
    "#### Como declarar una función\n",
    "En Julia las funciones se pueden declarar de varias maneras. La manera más general es la siguiente:\n"
   ]
  },
  {
   "cell_type": "code",
   "execution_count": 31,
   "metadata": {},
   "outputs": [
    {
     "data": {
      "text/plain": [
       "elevar (generic function with 1 method)"
      ]
     },
     "execution_count": 31,
     "metadata": {},
     "output_type": "execute_result"
    }
   ],
   "source": [
    "function elevar(x,y)\n",
    "    x^y\n",
    "end     "
   ]
  },
  {
   "cell_type": "code",
   "execution_count": 32,
   "metadata": {},
   "outputs": [
    {
     "data": {
      "text/plain": [
       "f (generic function with 1 method)"
      ]
     },
     "execution_count": 32,
     "metadata": {},
     "output_type": "execute_result"
    }
   ],
   "source": [
    "function f(x,y)\n",
    "    x/2+y/2\n",
    "end"
   ]
  },
  {
   "cell_type": "markdown",
   "metadata": {},
   "source": [
    "Cuando se hace una función la última línea de código es lo que se retorna de la función por tanto no siempre es necesario utilizar el keyword <code>return</code>. Para llamar a una función se utiliza la siguiente sintaxis:"
   ]
  },
  {
   "cell_type": "code",
   "execution_count": 33,
   "metadata": {},
   "outputs": [
    {
     "data": {
      "text/plain": [
       "8"
      ]
     },
     "execution_count": 33,
     "metadata": {},
     "output_type": "execute_result"
    }
   ],
   "source": [
    "elevar(2,3)"
   ]
  },
  {
   "cell_type": "code",
   "execution_count": 34,
   "metadata": {},
   "outputs": [
    {
     "data": {
      "text/plain": [
       "15.0"
      ]
     },
     "execution_count": 34,
     "metadata": {},
     "output_type": "execute_result"
    }
   ],
   "source": [
    "f(10,20)"
   ]
  },
  {
   "cell_type": "markdown",
   "metadata": {},
   "source": [
    "Las funciones anteriores solo hacen una cosa, funciones de este tipo muy sencillas se pueden declarar en una sola línea de código de la siguiente forma:"
   ]
  },
  {
   "cell_type": "code",
   "execution_count": 35,
   "metadata": {},
   "outputs": [
    {
     "data": {
      "text/plain": [
       "elevar2 (generic function with 1 method)"
      ]
     },
     "execution_count": 35,
     "metadata": {},
     "output_type": "execute_result"
    }
   ],
   "source": [
    "elevar2(x,y) = x^y"
   ]
  },
  {
   "cell_type": "code",
   "execution_count": 36,
   "metadata": {},
   "outputs": [
    {
     "data": {
      "text/plain": [
       "f2 (generic function with 1 method)"
      ]
     },
     "execution_count": 36,
     "metadata": {},
     "output_type": "execute_result"
    }
   ],
   "source": [
    "f2(x,y) = x/2 + y/2"
   ]
  },
  {
   "cell_type": "code",
   "execution_count": 37,
   "metadata": {},
   "outputs": [
    {
     "data": {
      "text/plain": [
       "8"
      ]
     },
     "execution_count": 37,
     "metadata": {},
     "output_type": "execute_result"
    }
   ],
   "source": [
    "elevar2(2,3)"
   ]
  },
  {
   "cell_type": "code",
   "execution_count": 38,
   "metadata": {},
   "outputs": [
    {
     "data": {
      "text/plain": [
       "15.0"
      ]
     },
     "execution_count": 38,
     "metadata": {},
     "output_type": "execute_result"
    }
   ],
   "source": [
    "f2(10,20)"
   ]
  },
  {
   "cell_type": "markdown",
   "metadata": {},
   "source": [
    "El ultimo método a mencionar de crear funciones es por medio de funciones __Anónimas__."
   ]
  },
  {
   "cell_type": "code",
   "execution_count": 39,
   "metadata": {},
   "outputs": [
    {
     "data": {
      "text/plain": [
       "#5 (generic function with 1 method)"
      ]
     },
     "execution_count": 39,
     "metadata": {},
     "output_type": "execute_result"
    }
   ],
   "source": [
    "elevar3 = (x,y) -> x^y"
   ]
  },
  {
   "cell_type": "code",
   "execution_count": 40,
   "metadata": {},
   "outputs": [
    {
     "data": {
      "text/plain": [
       "#7 (generic function with 1 method)"
      ]
     },
     "execution_count": 40,
     "metadata": {},
     "output_type": "execute_result"
    }
   ],
   "source": [
    "f3 = (x,y) -> x/2 + y/2"
   ]
  },
  {
   "cell_type": "markdown",
   "metadata": {},
   "source": [
    "Estas funciones no requieren de un nombre como tal, sin embargo, si se les asigna un nombre por medio de un variable se pueden llamar de la misma forma que los ejemplos anteriores."
   ]
  },
  {
   "cell_type": "code",
   "execution_count": 41,
   "metadata": {},
   "outputs": [
    {
     "data": {
      "text/plain": [
       "8"
      ]
     },
     "execution_count": 41,
     "metadata": {},
     "output_type": "execute_result"
    }
   ],
   "source": [
    "elevar3(2,3)"
   ]
  },
  {
   "cell_type": "code",
   "execution_count": 42,
   "metadata": {},
   "outputs": [
    {
     "data": {
      "text/plain": [
       "15.0"
      ]
     },
     "execution_count": 42,
     "metadata": {},
     "output_type": "execute_result"
    }
   ],
   "source": [
    "f3(10,20)"
   ]
  },
  {
   "cell_type": "markdown",
   "metadata": {},
   "source": [
    "### Return en Julia\n",
    "En Julia como se mencionó antes por defecto se retorna el ultimo valor de una función, sin embargo, si fuera una función más completa surge la necesidad de especificar que dato en particular retornar, para ello se utiliza el keyword <code>return</code>.\n",
    "\n",
    "Si uno desea especificar un tipo de variable en específico a retornar, por ejemplo un <code>String</code> o <code>Int8</code> se hace con la siguientes nomenclatura:\n"
   ]
  },
  {
   "cell_type": "code",
   "execution_count": 43,
   "metadata": {},
   "outputs": [
    {
     "data": {
      "text/plain": [
       "Int8"
      ]
     },
     "execution_count": 43,
     "metadata": {},
     "output_type": "execute_result"
    }
   ],
   "source": [
    "function sum(a,b)::Int8\n",
    "    return a+b\n",
    "end\n",
    "typeof(sum(2,4))"
   ]
  },
  {
   "cell_type": "markdown",
   "metadata": {},
   "source": [
    "Como detalle final del uso de <code>return</code>, en Julia se pueden retornar varios valores de una función de forma fácil. Cuando se retornan varios valores lo que en realidad hace Julia es retornar un <code>Tuple</code> con los valores retornados. Esto se hace de la siguiente forma como ejemplo:"
   ]
  },
  {
   "cell_type": "code",
   "execution_count": 44,
   "metadata": {},
   "outputs": [
    {
     "data": {
      "text/plain": [
       "(6, 0, 9, 1.0)"
      ]
     },
     "execution_count": 44,
     "metadata": {},
     "output_type": "execute_result"
    }
   ],
   "source": [
    "function num_calc(x,y)\n",
    "    return x+y, x-y, x*y, x/y\n",
    "end\n",
    "num_calc(3,3)"
   ]
  },
  {
   "cell_type": "markdown",
   "metadata": {},
   "source": [
    "Para accesar los varios resultados se puede hacer:"
   ]
  },
  {
   "cell_type": "code",
   "execution_count": 45,
   "metadata": {},
   "outputs": [
    {
     "name": "stdout",
     "output_type": "stream",
     "text": [
      "6\n",
      "0\n",
      "9\n",
      "1.0\n"
     ]
    }
   ],
   "source": [
    "suma, resta, mult, div = num_calc(3,3)\n",
    "println(suma)\n",
    "println(resta)\n",
    "println(mult)\n",
    "println(div)"
   ]
  },
  {
   "cell_type": "markdown",
   "metadata": {},
   "source": [
    "### Significado del operador <code>!</code> en funciones\n",
    "En Julia muchas de las funciones incluidas con el lenguaje tienen dos versiones, por ejemplo la función <code>sort()</code>. Las segunda versión se llama <code>sort!()</code>, el operador <code>!</code> lo que significa es que dicha función __si__ modifica los contenidos de su argumento. La diferencia se muestra mejor con un ejemplo:"
   ]
  },
  {
   "cell_type": "code",
   "execution_count": 46,
   "metadata": {},
   "outputs": [
    {
     "data": {
      "text/plain": [
       "5-element Array{Int64,1}:\n",
       "  4\n",
       "  3\n",
       "  1\n",
       " 10\n",
       "  9"
      ]
     },
     "execution_count": 46,
     "metadata": {},
     "output_type": "execute_result"
    }
   ],
   "source": [
    "arr = rand(1:10,5)"
   ]
  },
  {
   "cell_type": "code",
   "execution_count": 47,
   "metadata": {},
   "outputs": [
    {
     "name": "stdout",
     "output_type": "stream",
     "text": [
      "Version sorted [1, 3, 4, 9, 10]\n",
      "Arr [4, 3, 1, 10, 9]\n"
     ]
    }
   ],
   "source": [
    "println(\"Version sorted \", sort(arr))\n",
    "println(\"Arr \", arr)"
   ]
  },
  {
   "cell_type": "code",
   "execution_count": 48,
   "metadata": {},
   "outputs": [
    {
     "name": "stdout",
     "output_type": "stream",
     "text": [
      "Arr despues de sort! [1, 3, 4, 9, 10]\n"
     ]
    }
   ],
   "source": [
    "sort!(arr)\n",
    "println(\"Arr despues de sort! \", arr)"
   ]
  },
  {
   "cell_type": "markdown",
   "metadata": {},
   "source": [
    "Nótese que solo cuando se utiliza <code>sort!()</code> el arreglo de entrada original __si__ es modificado."
   ]
  },
  {
   "cell_type": "markdown",
   "metadata": {},
   "source": [
    "### Uso del operador <code>.</code>\n",
    "El operador de <code>.</code> en Julia funciona similar a como funciona en Matlab. Su función es que cuando se tiene un arreglo y se llama una función sobre este con el operador <code>.</code> la función se corre sobre cada uno de sus elementos. Este concepto se conoce como __Broadcasting__ en Julia. Por ejemplo, digamos que se desea elevar al cuadrado el valor de todos los elementos de un arreglo:"
   ]
  },
  {
   "cell_type": "code",
   "execution_count": 49,
   "metadata": {},
   "outputs": [
    {
     "data": {
      "text/plain": [
       "10-element Array{Int64,1}:\n",
       " 100\n",
       "  16\n",
       "   1\n",
       "  64\n",
       "  49\n",
       "  64\n",
       "  16\n",
       "   4\n",
       "  81\n",
       " 100"
      ]
     },
     "execution_count": 49,
     "metadata": {},
     "output_type": "execute_result"
    }
   ],
   "source": [
    "f(x) = x^2\n",
    "arr = rand(1:10, 10)\n",
    "f.(arr)"
   ]
  },
  {
   "cell_type": "markdown",
   "metadata": {},
   "source": [
    "Otro ejemplo mas complicado puede ser, teniendo una matriz <code>A</code> quiero obtener una matriz <code>B</code> la cual se obtiene luego de pasar cada elemento de <code>A</code> por alguna clase de función:"
   ]
  },
  {
   "cell_type": "code",
   "execution_count": 50,
   "metadata": {},
   "outputs": [
    {
     "data": {
      "text/plain": [
       "3×3 Array{Int64,2}:\n",
       " 7  1  8\n",
       " 4  3  2\n",
       " 5  7  4"
      ]
     },
     "execution_count": 50,
     "metadata": {},
     "output_type": "execute_result"
    }
   ],
   "source": [
    "A = rand(1:10, (3,3)) # Es sintaxis construye una matriz 3x3 con valores random entre 1-10"
   ]
  },
  {
   "cell_type": "code",
   "execution_count": 51,
   "metadata": {},
   "outputs": [
    {
     "data": {
      "text/plain": [
       "3×3 Array{Float64,2}:\n",
       " 107.333    -0.666667  162.667\n",
       "  17.3333    6.0         0.666667\n",
       "  36.6667  107.333      17.3333"
      ]
     },
     "execution_count": 51,
     "metadata": {},
     "output_type": "execute_result"
    }
   ],
   "source": [
    "matrix_func(x) = x^3/3 -2x + x\n",
    "B = matrix_func.(A)"
   ]
  },
  {
   "cell_type": "markdown",
   "metadata": {},
   "source": [
    "Como ejemplo final, se muestra cómo obtener el cuadrado de una matriz en Julia:"
   ]
  },
  {
   "cell_type": "code",
   "execution_count": 52,
   "metadata": {},
   "outputs": [
    {
     "data": {
      "text/plain": [
       "3×3 Array{Int64,2}:\n",
       " 116   91  60\n",
       " 124   97  63\n",
       " 116  111  82"
      ]
     },
     "execution_count": 52,
     "metadata": {},
     "output_type": "execute_result"
    }
   ],
   "source": [
    "f(x) = x^2\n",
    "A = rand(1:10, (3,3))\n",
    "f(A)"
   ]
  }
 ],
 "metadata": {
  "kernelspec": {
   "display_name": "Julia 1.5.0",
   "language": "julia",
   "name": "julia-1.5"
  },
  "language_info": {
   "file_extension": ".jl",
   "mimetype": "application/julia",
   "name": "julia",
   "version": "1.5.0"
  }
 },
 "nbformat": 4,
 "nbformat_minor": 2
}

{
 "cells": [
  {
   "cell_type": "markdown",
   "metadata": {},
   "source": [
    "# Sintaxis de Julia \n",
    "Este cuaderno de Jupyter cubre los temas básicos de sintaxis de introducción al lenguaje como: \n",
    "1. Tipos de Variables\n",
    "2. Como utilizar comentarios \n",
    "3. Sintaxis para imprimir en terminal \n",
    "4. Manejo de Strings\n",
    "5. Operandos matemáticos básicos \n",
    "\n",
    "## Uso de Variables\n",
    "Para declarar un variable en Julia en general no es necesario especificar un tipo como en C, solo basta poner un nombre e igualarlo a un dato. Por ejemplo:\n",
    "\n",
    " ```julia\n",
    "    test = 1\n",
    "    test2 = 1.5\n",
    "    test3 = \"hola\"\n",
    " ```\n",
    " Para saber qué tipo de variable asigna Julia se puede usar la función <code>typeof(arg)</code>.\n"
   ]
  },
  {
   "cell_type": "code",
   "execution_count": 1,
   "metadata": {},
   "outputs": [
    {
     "data": {
      "text/plain": [
       "Int64"
      ]
     },
     "execution_count": 1,
     "metadata": {},
     "output_type": "execute_result"
    }
   ],
   "source": [
    "test = 1\n",
    "typeof(test)"
   ]
  },
  {
   "cell_type": "code",
   "execution_count": 2,
   "metadata": {},
   "outputs": [
    {
     "data": {
      "text/plain": [
       "Float64"
      ]
     },
     "execution_count": 2,
     "metadata": {},
     "output_type": "execute_result"
    }
   ],
   "source": [
    "test = 1.5\n",
    "typeof(test)"
   ]
  },
  {
   "cell_type": "code",
   "execution_count": 3,
   "metadata": {},
   "outputs": [
    {
     "data": {
      "text/plain": [
       "String"
      ]
     },
     "execution_count": 3,
     "metadata": {},
     "output_type": "execute_result"
    }
   ],
   "source": [
    "test = \"hola\"\n",
    "typeof(test)"
   ]
  },
  {
   "cell_type": "code",
   "execution_count": 4,
   "metadata": {},
   "outputs": [
    {
     "data": {
      "text/plain": [
       "Array{Any,1}"
      ]
     },
     "execution_count": 4,
     "metadata": {},
     "output_type": "execute_result"
    }
   ],
   "source": [
    "test = []\n",
    "typeof(test)"
   ]
  },
  {
   "cell_type": "markdown",
   "metadata": {},
   "source": [
    "Algunos ejemplos de tipos de variables existentes son: \n",
    "- Int8\n",
    "- UInt8\n",
    "- Int16\n",
    "- UInt16\n",
    "- Float32\n",
    "- Float64\n",
    "\n",
    "En general como se vio anteriormente, Julia escoge el tipo más apropiado para una variable dependiendo de su valor, sin embargo, si se deseara especificar un tipo en específico se puede hacer por medio de la siguiente sintaxis: \n",
    " ```julia\n",
    "    test = Int8(10)\n",
    "    test2 = Float32(1.5)\n",
    " ```\n",
    "Es importante tener cuidado a la hora de utilizar la sintaxis anterior, dado que Julia si toma en cuenta mayúsculas.\n"
   ]
  },
  {
   "cell_type": "code",
   "execution_count": 5,
   "metadata": {},
   "outputs": [
    {
     "data": {
      "text/plain": [
       "Int8"
      ]
     },
     "execution_count": 5,
     "metadata": {},
     "output_type": "execute_result"
    }
   ],
   "source": [
    "test = Int8(10)\n",
    "typeof(test)"
   ]
  },
  {
   "cell_type": "code",
   "execution_count": 6,
   "metadata": {},
   "outputs": [
    {
     "data": {
      "text/plain": [
       "Float32"
      ]
     },
     "execution_count": 6,
     "metadata": {},
     "output_type": "execute_result"
    }
   ],
   "source": [
    "test = Float32(1.5)\n",
    "typeof(test)"
   ]
  },
  {
   "cell_type": "markdown",
   "metadata": {},
   "source": [
    "Otra forma de seleccionar el tipo de variable a crear es por medio del operador <code>::</code>. Este operador puede realizar dos cosas dependiendo del contexto, una decidir qué tipo es una variable a la hora de compilar siempre que sea una variable <code>local</code>.\n",
    "Por ejemplo:\n"
   ]
  },
  {
   "cell_type": "code",
   "execution_count": 7,
   "metadata": {},
   "outputs": [
    {
     "data": {
      "text/plain": [
       "Float64"
      ]
     },
     "execution_count": 7,
     "metadata": {},
     "output_type": "execute_result"
    }
   ],
   "source": [
    "function f()\n",
    "    test::Float64 = 10\n",
    "    typeof(test)\n",
    "end\n",
    "f()"
   ]
  },
  {
   "cell_type": "markdown",
   "metadata": {},
   "source": [
    "## Como utilizar comentarios "
   ]
  },
  {
   "cell_type": "code",
   "execution_count": 8,
   "metadata": {},
   "outputs": [],
   "source": [
    "# Para realizar un comentario corto de una linea se utilizar #\n",
    "\n",
    "#=\n",
    "    Para comentarios mas largos de varias lineas\n",
    "    se puede utilizar la sintaxis de #= <text> =#\n",
    "=#"
   ]
  },
  {
   "cell_type": "markdown",
   "metadata": {},
   "source": [
    "## Sintaxis para imprimir en terminal \n",
    "\n",
    "En general se puede utilizar la función <code>println()</code>, dicha función imprime su contenido en terminal y deja una nueva línea al final, similar a utilizar <code>\\n</code> al final de un string en <code>printf()</code>. \n",
    "\n",
    "Si se desea imprimir sin dejar una nueva línea se puede utilizar el comando <code>print()</code>.\n"
   ]
  },
  {
   "cell_type": "code",
   "execution_count": 9,
   "metadata": {},
   "outputs": [
    {
     "name": "stdout",
     "output_type": "stream",
     "text": [
      "Hola Mundo!\n",
      "Hola Mundo!\n"
     ]
    }
   ],
   "source": [
    "println(\"Hola Mundo!\")\n",
    "println(\"Hola Mundo!\")"
   ]
  },
  {
   "cell_type": "code",
   "execution_count": 10,
   "metadata": {},
   "outputs": [
    {
     "name": "stdout",
     "output_type": "stream",
     "text": [
      "Hola mundo!!Hola Mundo!!"
     ]
    }
   ],
   "source": [
    "print(\"Hola mundo!!\")\n",
    "print(\"Hola Mundo!!\")"
   ]
  },
  {
   "cell_type": "markdown",
   "metadata": {},
   "source": [
    "Continuando, para poder imprimir variables en medio de un mensaje se utiliza el operando <code>\\$</code> con la siguiente sintaxis:\n",
    " ```julia\n",
    "     num = 10\n",
    "     println(\"Han pasado $num dias\")\n",
    " ```"
   ]
  },
  {
   "cell_type": "code",
   "execution_count": 11,
   "metadata": {},
   "outputs": [
    {
     "name": "stdout",
     "output_type": "stream",
     "text": [
      "El valor de a es 10\n"
     ]
    }
   ],
   "source": [
    "a = 10\n",
    "println(\"El valor de a es $a\")"
   ]
  },
  {
   "cell_type": "markdown",
   "metadata": {},
   "source": [
    "También se pueden realizar operaciones por medio de ese mismo operador por ejemplo:"
   ]
  },
  {
   "cell_type": "code",
   "execution_count": 12,
   "metadata": {},
   "outputs": [
    {
     "name": "stdout",
     "output_type": "stream",
     "text": [
      "La suma de a + b es 20\n"
     ]
    }
   ],
   "source": [
    "b = 10 \n",
    "println(\"La suma de a + b es $(a+b)\")"
   ]
  },
  {
   "cell_type": "markdown",
   "metadata": {},
   "source": [
    "La función de impresión también soporta ejemplos como:\n",
    "```julia\n",
    "    println(Int(1) == '1')\n",
    "```\n",
    "Donde lo que imprime es el resultado de la comparación.\n"
   ]
  },
  {
   "cell_type": "code",
   "execution_count": 13,
   "metadata": {},
   "outputs": [
    {
     "name": "stdout",
     "output_type": "stream",
     "text": [
      "false\n"
     ]
    }
   ],
   "source": [
    "println(Int(1) == '1')"
   ]
  },
  {
   "cell_type": "markdown",
   "metadata": {},
   "source": [
    "Como una ultima nota sobre impresion en terminal, la ultima linea en un conjunto de codigo siempre se imprime en terminal por ejemplo:"
   ]
  },
  {
   "cell_type": "code",
   "execution_count": 14,
   "metadata": {},
   "outputs": [
    {
     "data": {
      "text/plain": [
       "654"
      ]
     },
     "execution_count": 14,
     "metadata": {},
     "output_type": "execute_result"
    }
   ],
   "source": [
    "var1 = 234\n",
    "654"
   ]
  },
  {
   "cell_type": "markdown",
   "metadata": {},
   "source": [
    "Si se desea suprimir este efecto se debe agregar un <code>;</code> a la ultima linea de codigo, esto indica que no se debe generar una impresion"
   ]
  },
  {
   "cell_type": "code",
   "execution_count": 15,
   "metadata": {},
   "outputs": [],
   "source": [
    "var1 = 234\n",
    "654;"
   ]
  },
  {
   "cell_type": "markdown",
   "metadata": {},
   "source": [
    "## Manejo de Strings\n",
    "\n",
    "Para declarar un carácter o _char_ se utiliza la comilla simple <code>'</code>. \n",
    "```julia\n",
    "    soy_un_char = 'a'\n",
    "```\n",
    "Por otro lado, para declarar un _string_ se utiliza la doble comilla <code>\"</code>. \n",
    "```julia\n",
    "    soy_un_string = \"Hola!\"\n",
    "```\n",
    "Si se desea crear un _string_ con comillas dentro de él se puede utilizar triple <code>\"\"\"</code>. \n",
    "```julia\n",
    "    soy_otro_string = \"\"\"Acá no hay ningún \"error\" solo otro string\"\"\"\n",
    "```\n"
   ]
  },
  {
   "cell_type": "code",
   "execution_count": 16,
   "metadata": {},
   "outputs": [
    {
     "data": {
      "text/plain": [
       "'a': ASCII/Unicode U+0061 (category Ll: Letter, lowercase)"
      ]
     },
     "execution_count": 16,
     "metadata": {},
     "output_type": "execute_result"
    }
   ],
   "source": [
    "soy_un_char = 'a'"
   ]
  },
  {
   "cell_type": "code",
   "execution_count": 17,
   "metadata": {},
   "outputs": [
    {
     "name": "stdout",
     "output_type": "stream",
     "text": [
      "Hola!\n"
     ]
    }
   ],
   "source": [
    "soy_un_string = \"Hola!\"\n",
    "println(soy_un_string)"
   ]
  },
  {
   "cell_type": "code",
   "execution_count": 18,
   "metadata": {},
   "outputs": [
    {
     "name": "stdout",
     "output_type": "stream",
     "text": [
      "Acá no hay ningún \"error\" solo otro string\n"
     ]
    }
   ],
   "source": [
    "soy_otro_string = \"\"\"Acá no hay ningún \"error\" solo otro string\"\"\"\n",
    "println(soy_otro_string)"
   ]
  },
  {
   "cell_type": "markdown",
   "metadata": {},
   "source": [
    "Los _strings_ se puede accesar elemento por elemento como si fueran un arreglo: "
   ]
  },
  {
   "cell_type": "code",
   "execution_count": 19,
   "metadata": {},
   "outputs": [
    {
     "name": "stdout",
     "output_type": "stream",
     "text": [
      " \n"
     ]
    }
   ],
   "source": [
    "println(soy_otro_string[5])"
   ]
  },
  {
   "cell_type": "markdown",
   "metadata": {},
   "source": [
    "Para combinar varios strings se utiliza el operador <code>*</code>"
   ]
  },
  {
   "cell_type": "code",
   "execution_count": 20,
   "metadata": {},
   "outputs": [
    {
     "name": "stdout",
     "output_type": "stream",
     "text": [
      "Soy un ejemplo\n"
     ]
    }
   ],
   "source": [
    "string_a = \"Soy \"\n",
    "string_b = \"un \"\n",
    "string_c = \"ejemplo\"\n",
    "string_result = string_a * string_b * string_c\n",
    "# Una vez los strings combinados se pueden imprimir\n",
    "println(string_result)"
   ]
  },
  {
   "cell_type": "markdown",
   "metadata": {},
   "source": [
    "Otra opción para realizar lo mismo es utilizar la función <code>string()</code>"
   ]
  },
  {
   "cell_type": "code",
   "execution_count": 21,
   "metadata": {},
   "outputs": [
    {
     "data": {
      "text/plain": [
       "\"Soy un ejemplo mas\""
      ]
     },
     "execution_count": 21,
     "metadata": {},
     "output_type": "execute_result"
    }
   ],
   "source": [
    "string(string_a, string_b, string_c, \" mas\")"
   ]
  },
  {
   "cell_type": "markdown",
   "metadata": {},
   "source": [
    "## Operandos Matematicos \n",
    "Julia utiliza los siguientes operadores matematicos basicos: "
   ]
  },
  {
   "cell_type": "code",
   "execution_count": 22,
   "metadata": {},
   "outputs": [
    {
     "data": {
      "text/plain": [
       "3"
      ]
     },
     "execution_count": 22,
     "metadata": {},
     "output_type": "execute_result"
    }
   ],
   "source": [
    "suma = 1 + 2 "
   ]
  },
  {
   "cell_type": "code",
   "execution_count": 23,
   "metadata": {},
   "outputs": [
    {
     "data": {
      "text/plain": [
       "-1"
      ]
     },
     "execution_count": 23,
     "metadata": {},
     "output_type": "execute_result"
    }
   ],
   "source": [
    "resta = 1 - 2"
   ]
  },
  {
   "cell_type": "code",
   "execution_count": 24,
   "metadata": {},
   "outputs": [
    {
     "data": {
      "text/plain": [
       "2"
      ]
     },
     "execution_count": 24,
     "metadata": {},
     "output_type": "execute_result"
    }
   ],
   "source": [
    "multiplicacion = 1 * 2 "
   ]
  },
  {
   "cell_type": "code",
   "execution_count": 25,
   "metadata": {},
   "outputs": [
    {
     "data": {
      "text/plain": [
       "0.5"
      ]
     },
     "execution_count": 25,
     "metadata": {},
     "output_type": "execute_result"
    }
   ],
   "source": [
    "division = 1 / 2 "
   ]
  },
  {
   "cell_type": "code",
   "execution_count": 26,
   "metadata": {},
   "outputs": [
    {
     "data": {
      "text/plain": [
       "6"
      ]
     },
     "execution_count": 26,
     "metadata": {},
     "output_type": "execute_result"
    }
   ],
   "source": [
    "power = 2 * 3"
   ]
  },
  {
   "cell_type": "code",
   "execution_count": 27,
   "metadata": {},
   "outputs": [
    {
     "data": {
      "text/plain": [
       "0"
      ]
     },
     "execution_count": 27,
     "metadata": {},
     "output_type": "execute_result"
    }
   ],
   "source": [
    "modulo = 10 % 2"
   ]
  }
 ],
 "metadata": {
  "kernelspec": {
   "display_name": "Julia 1.5.0",
   "language": "julia",
   "name": "julia-1.5"
  },
  "language_info": {
   "file_extension": ".jl",
   "mimetype": "application/julia",
   "name": "julia",
   "version": "1.5.0"
  }
 },
 "nbformat": 4,
 "nbformat_minor": 2
}
